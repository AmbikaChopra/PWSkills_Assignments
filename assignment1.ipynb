{
 "cells": [
  {
   "cell_type": "code",
   "execution_count": 19,
   "id": "863dc06b-b09a-43ac-9c70-aec81ccff71d",
   "metadata": {},
   "outputs": [
    {
     "name": "stdout",
     "output_type": "stream",
     "text": [
      "hello [1, 2, 'abc', 24.59, (2+6j), True] 29.48\n"
     ]
    }
   ],
   "source": [
    "s = 'hello'\n",
    "l = [1,2,'abc',24.59,2+6j,True]\n",
    "f = 29.48\n",
    "print(s,l,f)"
   ]
  },
  {
   "cell_type": "code",
   "execution_count": null,
   "id": "7687a742-ab90-40e3-808f-9adca9b53095",
   "metadata": {},
   "outputs": [
    {
     "data": {
      "text/plain": [
       "' (i) var1 = ‘ ‘  ---------> string\\n(ii) var2 = ‘[ DS , ML , Python]’ -----> string\\n(iii) var3 = [ ‘DS’ , ’ML’ , ‘Python’ ]  ---------> list\\n(iv) var4 = 1.  ----------------> int '"
      ]
     },
     "execution_count": 21,
     "metadata": {},
     "output_type": "execute_result"
    }
   ],
   "source": [
    "\"\"\" (i) var1 = ‘ ‘  ---------> string\n",
    "(ii) var2 = ‘[ DS , ML , Python]’ -----> string\n",
    "(iii) var3 = [ ‘DS’ , ’ML’ , ‘Python’ ]  ---------> list\n",
    "(iv) var4 = 1.  ----------------> int"
   ]
  },
  {
   "cell_type": "code",
   "execution_count": 22,
   "id": "f371efa9-0b71-4eb1-a625-47bdd05d416e",
   "metadata": {},
   "outputs": [
    {
     "name": "stdout",
     "output_type": "stream",
     "text": [
      "4.0\n"
     ]
    }
   ],
   "source": [
    "\"\"\" (i) / ------> divide\n",
    "(ii) % ---------> remainder\n",
    "(iii) // -------------> floor\n",
    "(iv) **  -------------> to the power \"\"\"\n",
    "\n",
    "a = 20\n",
    "b = 5\n",
    "print(a/b)"
   ]
  },
  {
   "cell_type": "code",
   "execution_count": 23,
   "id": "78fa640f-62e6-4668-91c1-17d5bcce4609",
   "metadata": {},
   "outputs": [
    {
     "name": "stdout",
     "output_type": "stream",
     "text": [
      "0\n",
      "4\n",
      "3200000\n"
     ]
    }
   ],
   "source": [
    "print(a%b)\n",
    "print(a//b)\n",
    "print(a**b)"
   ]
  },
  {
   "cell_type": "code",
   "execution_count": 2,
   "id": "84088ff4-709f-4a85-bf2d-d82a28e2f477",
   "metadata": {},
   "outputs": [],
   "source": [
    "list_a = [11,12.15,'hello',5+6j,True,7,\"5+6j\",False,-55,[12,34.56]]"
   ]
  },
  {
   "cell_type": "code",
   "execution_count": 3,
   "id": "9ab88cd7-f76f-469b-b582-8174d6482111",
   "metadata": {},
   "outputs": [
    {
     "data": {
      "text/plain": [
       "[11, 12.15, 'hello', (5+6j), True, 7, '5+6j', False, -55, [12, 34.56]]"
      ]
     },
     "execution_count": 3,
     "metadata": {},
     "output_type": "execute_result"
    }
   ],
   "source": [
    "list_a"
   ]
  },
  {
   "cell_type": "code",
   "execution_count": 4,
   "id": "3bfc398b-f951-458e-b3ec-d7e85a66fd8d",
   "metadata": {},
   "outputs": [
    {
     "name": "stdout",
     "output_type": "stream",
     "text": [
      "11 <class 'int'>\n",
      "12.15 <class 'float'>\n",
      "hello <class 'str'>\n",
      "(5+6j) <class 'complex'>\n",
      "True <class 'bool'>\n",
      "7 <class 'int'>\n",
      "5+6j <class 'str'>\n",
      "False <class 'bool'>\n",
      "-55 <class 'int'>\n",
      "[12, 34.56] <class 'list'>\n"
     ]
    }
   ],
   "source": [
    "for i in list_a :\n",
    "    print(i,type(i))"
   ]
  },
  {
   "cell_type": "code",
   "execution_count": 1,
   "id": "1a132400-caf1-467a-a21b-1da39aa78f0e",
   "metadata": {},
   "outputs": [
    {
     "name": "stdin",
     "output_type": "stream",
     "text": [
      "enter value for a1 100\n",
      "enter value for b1 5\n"
     ]
    },
    {
     "name": "stdout",
     "output_type": "stream",
     "text": [
      "100  is divisible by  5  , 20  times!\n"
     ]
    }
   ],
   "source": [
    "a1 = int(input(\"enter value for a1\"))\n",
    "b1 = int(input(\"enter value for b1\"))\n",
    "c1 = a1%b1\n",
    "d1 = a1 // b1\n",
    "\n",
    "if c1 == 0 :\n",
    "    print(a1,\" is divisible by \",b1,\" ,\",d1,\" times!\")\n",
    "else :\n",
    "    print(a1,\" is not purely divisible by \",b1)"
   ]
  },
  {
   "cell_type": "code",
   "execution_count": 2,
   "id": "638fa9f9-6177-4b48-93b2-3e97877151fc",
   "metadata": {},
   "outputs": [
    {
     "name": "stdin",
     "output_type": "stream",
     "text": [
      "enter value for a1 20\n",
      "enter value for b1 3\n"
     ]
    },
    {
     "name": "stdout",
     "output_type": "stream",
     "text": [
      "20  is not purely divisible by  3\n"
     ]
    }
   ],
   "source": [
    "a1 = int(input(\"enter value for a1\"))\n",
    "b1 = int(input(\"enter value for b1\"))\n",
    "c1 = a1%b1\n",
    "d1 = a1 // b1\n",
    "\n",
    "if c1 == 0 :\n",
    "    print(a1,\" is divisible by \",b1,\" ,\",d1,\" times!\")\n",
    "else :\n",
    "    print(a1,\" is not purely divisible by \",b1)"
   ]
  },
  {
   "cell_type": "code",
   "execution_count": 4,
   "id": "fcdf1f5a-d943-43a7-9058-5110d3408d7d",
   "metadata": {},
   "outputs": [
    {
     "name": "stdout",
     "output_type": "stream",
     "text": [
      "1  is not divisible by 3\n",
      "3  is divisible by 3\n",
      "5  is not divisible by 3\n",
      "7  is not divisible by 3\n",
      "9  is divisible by 3\n",
      "2  is not divisible by 3\n",
      "4  is not divisible by 3\n",
      "6  is divisible by 3\n",
      "8  is not divisible by 3\n",
      "10  is not divisible by 3\n",
      "11  is not divisible by 3\n",
      "13  is not divisible by 3\n",
      "15  is divisible by 3\n",
      "17  is not divisible by 3\n",
      "19  is not divisible by 3\n",
      "12  is divisible by 3\n",
      "14  is not divisible by 3\n",
      "16  is not divisible by 3\n",
      "18  is divisible by 3\n",
      "20  is not divisible by 3\n",
      "22  is not divisible by 3\n",
      "24  is divisible by 3\n",
      "26  is not divisible by 3\n",
      "28  is not divisible by 3\n",
      "30  is divisible by 3\n"
     ]
    }
   ],
   "source": [
    "#question 6\n",
    "list_b = [1,3,5,7,9,2,4,6,8,10,11,13,15,17,19,12,14,16,18,20,22,24,26,28,30]\n",
    "for i in list_b :\n",
    "    if i%3 == 0 :\n",
    "        print(i,\" is divisible by 3\")\n",
    "    else :\n",
    "        print(i,\" is not divisible by 3\")\n",
    "        "
   ]
  },
  {
   "cell_type": "code",
   "execution_count": 6,
   "id": "d205f7c8-efd2-420d-96bb-2f3193697632",
   "metadata": {},
   "outputs": [
    {
     "name": "stdout",
     "output_type": "stream",
     "text": [
      "[1, 3, 5, 7, 9, 2, 4, 6, 8, 10, 11, 13, 15, 17, 19, 12, 14, 16, 18, 20, 22, 24, 26, 28, 30]\n"
     ]
    }
   ],
   "source": [
    "#question 7\n",
    "print(list_b)"
   ]
  },
  {
   "cell_type": "code",
   "execution_count": 7,
   "id": "2095b7d2-5f2b-40e7-9fc7-b3969bc1e947",
   "metadata": {},
   "outputs": [
    {
     "data": {
      "text/plain": [
       "'hello'"
      ]
     },
     "execution_count": 7,
     "metadata": {},
     "output_type": "execute_result"
    }
   ],
   "source": [
    "s = 'hello'\n",
    "s"
   ]
  },
  {
   "cell_type": "code",
   "execution_count": 8,
   "id": "f3fe3702-7f8c-4d9d-a121-260861999d16",
   "metadata": {},
   "outputs": [
    {
     "data": {
      "text/plain": [
       "5"
      ]
     },
     "execution_count": 8,
     "metadata": {},
     "output_type": "execute_result"
    }
   ],
   "source": [
    "list_b[2]"
   ]
  },
  {
   "cell_type": "code",
   "execution_count": 10,
   "id": "8b2a164d-7a42-4c6a-944f-e708eb11ae3a",
   "metadata": {},
   "outputs": [
    {
     "data": {
      "text/plain": [
       "20"
      ]
     },
     "execution_count": 10,
     "metadata": {},
     "output_type": "execute_result"
    }
   ],
   "source": [
    "list_b[-6]"
   ]
  },
  {
   "cell_type": "code",
   "execution_count": 11,
   "id": "331b1223-7383-41fa-b0c5-89504de602e1",
   "metadata": {},
   "outputs": [
    {
     "data": {
      "text/plain": [
       "'l'"
      ]
     },
     "execution_count": 11,
     "metadata": {},
     "output_type": "execute_result"
    }
   ],
   "source": [
    "s[2]"
   ]
  },
  {
   "cell_type": "code",
   "execution_count": 12,
   "id": "d6f7ee97-26d8-4271-8d4b-91fa43274a72",
   "metadata": {},
   "outputs": [
    {
     "data": {
      "text/plain": [
       "'o'"
      ]
     },
     "execution_count": 12,
     "metadata": {},
     "output_type": "execute_result"
    }
   ],
   "source": [
    "s[-1]"
   ]
  },
  {
   "cell_type": "code",
   "execution_count": 13,
   "id": "5237e511-df45-4b93-8010-03ba62d8b494",
   "metadata": {},
   "outputs": [],
   "source": [
    "list_b[2] = 6  \"\"\"this shows list data type is mutable\"\"\""
   ]
  },
  {
   "cell_type": "code",
   "execution_count": 14,
   "id": "eedffb30-10a7-49ba-ab58-76ba000d9bfe",
   "metadata": {},
   "outputs": [
    {
     "data": {
      "text/plain": [
       "6"
      ]
     },
     "execution_count": 14,
     "metadata": {},
     "output_type": "execute_result"
    }
   ],
   "source": [
    "list_b[2]"
   ]
  },
  {
   "cell_type": "code",
   "execution_count": 15,
   "id": "875499c0-27a7-4ebe-9398-814d1ac96178",
   "metadata": {},
   "outputs": [
    {
     "name": "stdout",
     "output_type": "stream",
     "text": [
      "[1, 3, 6, 7, 9, 2, 4, 6, 8, 10, 11, 13, 15, 17, 19, 12, 14, 16, 18, 20, 22, 24, 26, 28, 30]\n"
     ]
    }
   ],
   "source": [
    "print(list_b)"
   ]
  },
  {
   "cell_type": "code",
   "execution_count": 16,
   "id": "10552302-fdd9-46c6-8c2f-ee47fa998b99",
   "metadata": {},
   "outputs": [
    {
     "ename": "NameError",
     "evalue": "name 'L' is not defined",
     "output_type": "error",
     "traceback": [
      "\u001b[0;31m---------------------------------------------------------------------------\u001b[0m",
      "\u001b[0;31mNameError\u001b[0m                                 Traceback (most recent call last)",
      "Cell \u001b[0;32mIn[16], line 1\u001b[0m\n\u001b[0;32m----> 1\u001b[0m s[\u001b[38;5;241m2\u001b[39m] \u001b[38;5;241m=\u001b[39m \u001b[43mL\u001b[49m\n",
      "\u001b[0;31mNameError\u001b[0m: name 'L' is not defined"
     ]
    }
   ],
   "source": [
    "s[2] = L  \"\"\"this shows string data type is immutable\"\"\""
   ]
  },
  {
   "cell_type": "code",
   "execution_count": 17,
   "id": "02dd1e62-044f-48fa-a6b9-d28de1fdd398",
   "metadata": {},
   "outputs": [
    {
     "name": "stdout",
     "output_type": "stream",
     "text": [
      "hello\n"
     ]
    }
   ],
   "source": [
    "print(s)"
   ]
  },
  {
   "cell_type": "code",
   "execution_count": null,
   "id": "7897d3c8-09d8-4928-9797-555f0fedc7da",
   "metadata": {},
   "outputs": [],
   "source": []
  }
 ],
 "metadata": {
  "kernelspec": {
   "display_name": "Python 3 (ipykernel)",
   "language": "python",
   "name": "python3"
  },
  "language_info": {
   "codemirror_mode": {
    "name": "ipython",
    "version": 3
   },
   "file_extension": ".py",
   "mimetype": "text/x-python",
   "name": "python",
   "nbconvert_exporter": "python",
   "pygments_lexer": "ipython3",
   "version": "3.10.8"
  }
 },
 "nbformat": 4,
 "nbformat_minor": 5
}
